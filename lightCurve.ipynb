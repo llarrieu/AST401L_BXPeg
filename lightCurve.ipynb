{
 "cells": [
  {
   "cell_type": "code",
   "execution_count": 1,
   "id": "5d768fcb",
   "metadata": {},
   "outputs": [],
   "source": [
    "import numpy as np\n",
    "import pandas as pd\n",
    "from matplotlib import pyplot as plt\n",
    "import scipy as sci"
   ]
  },
  {
   "cell_type": "code",
   "execution_count": 88,
   "id": "074853a0",
   "metadata": {
    "scrolled": true
   },
   "outputs": [],
   "source": [
    "#import the data\n",
    "df = pd.read_csv('~/school_programs/AST401L_BXPeg/magnitudeData/bxpeg.dat', delim_whitespace=True)#import the data as a dataframe\n",
    "#label each column\n",
    "df.columns = ['frameName', 'objectNum', 'JD', 'col', 'line', 'BVR', 'mag', 'err']\n",
    "#sort the dataframe by julian date\n",
    "df = df.sort_values(by = ['JD'])"
   ]
  },
  {
   "cell_type": "code",
   "execution_count": 91,
   "id": "be09abed",
   "metadata": {},
   "outputs": [
    {
     "ename": "ValueError",
     "evalue": "operands could not be broadcast together with shapes (481,) (482,) ",
     "output_type": "error",
     "traceback": [
      "\u001b[0;31m---------------------------------------------------------------------------\u001b[0m",
      "\u001b[0;31mValueError\u001b[0m                                Traceback (most recent call last)",
      "Cell \u001b[0;32mIn[91], line 41\u001b[0m\n\u001b[1;32m     39\u001b[0m HJDR \u001b[38;5;241m=\u001b[39m HJDR[HJDR \u001b[38;5;241m!=\u001b[39m \u001b[38;5;241m0\u001b[39m]\n\u001b[1;32m     40\u001b[0m     \u001b[38;5;66;03m#plot as a scatter plot:\u001b[39;00m\n\u001b[0;32m---> 41\u001b[0m plt\u001b[38;5;241m.\u001b[39mscatter(HJDB,(bxpegMagsB\u001b[38;5;241m-\u001b[39mthreeMagsB),label\u001b[38;5;241m=\u001b[39m\u001b[38;5;124m'\u001b[39m\u001b[38;5;124mB filter\u001b[39m\u001b[38;5;124m'\u001b[39m,color\u001b[38;5;241m=\u001b[39m\u001b[38;5;124m'\u001b[39m\u001b[38;5;124mb\u001b[39m\u001b[38;5;124m'\u001b[39m)\n\u001b[1;32m     42\u001b[0m plt\u001b[38;5;241m.\u001b[39mscatter(HJDV,(bxpegMagsV\u001b[38;5;241m-\u001b[39mthreeMagsV),label\u001b[38;5;241m=\u001b[39m\u001b[38;5;124m'\u001b[39m\u001b[38;5;124mV filter\u001b[39m\u001b[38;5;124m'\u001b[39m,color\u001b[38;5;241m=\u001b[39m\u001b[38;5;124m'\u001b[39m\u001b[38;5;124mg\u001b[39m\u001b[38;5;124m'\u001b[39m)\n\u001b[1;32m     43\u001b[0m plt\u001b[38;5;241m.\u001b[39mscatter(HJDR,(bxpegMagsR\u001b[38;5;241m-\u001b[39mthreeMagsR),label\u001b[38;5;241m=\u001b[39m\u001b[38;5;124m'\u001b[39m\u001b[38;5;124mR filter\u001b[39m\u001b[38;5;124m'\u001b[39m,color\u001b[38;5;241m=\u001b[39m\u001b[38;5;124m'\u001b[39m\u001b[38;5;124mr\u001b[39m\u001b[38;5;124m'\u001b[39m)\n",
      "\u001b[0;31mValueError\u001b[0m: operands could not be broadcast together with shapes (481,) (482,) "
     ]
    }
   ],
   "source": [
    "cols = ['objectNum','JD','BVR','mag','err']\n",
    "#extract data from the cols columns and turn into a 2D np array\n",
    "temp = df[cols].to_numpy()\n",
    "\n",
    "#get data just from object 1, which should be BXPeg. any position that isn't from BXPeg gets assigned a zero that we will filter out next\n",
    "bxpegMagsB = np.where((df.objectNum==1)&(df.BVR=='B'),df.mag,0)\n",
    "bxpegMagsV = np.where((df.objectNum==1)&(df.BVR=='V'),df.mag,0)\n",
    "bxpegMagsR = np.where((df.objectNum==1)&(df.BVR=='R'),df.mag,0)\n",
    "\n",
    "#do the same for objects 2 and 3\n",
    "twoMagsB = np.where((df.objectNum==2)&(df.BVR=='B'),df.mag,0)\n",
    "twoMagsV = np.where((df.objectNum==2)&(df.BVR=='V'),df.mag,0)\n",
    "twoMagsR = np.where((df.objectNum==2)&(df.BVR=='R'),df.mag,0)\n",
    "\n",
    "threeMagsB = np.where((df.objectNum==3)&(df.BVR=='B'),df.mag,0)\n",
    "threeMagsV = np.where((df.objectNum==3)&(df.BVR=='V'),df.mag,0)\n",
    "threeMagsR = np.where((df.objectNum==3)&(df.BVR=='R'),df.mag,0)\n",
    "\n",
    "#extract non-zero elements and reassign the mags arrays with those non zero values\n",
    "bxpegMagsB = bxpegMagsB[bxpegMagsB != 0]\n",
    "bxpegMagsV = bxpegMagsV[bxpegMagsV != 0]\n",
    "bxpegMagsR = bxpegMagsR[bxpegMagsR != 0]\n",
    "\n",
    "twoB = twoMagsB[twoMagsB != 0]\n",
    "twoV = twoMagsV[twoMagsV != 0]\n",
    "twoR = twoMagsR[twoMagsR != 0]\n",
    "\n",
    "threeMagsB = threeMagsB[threeMagsB != 0]\n",
    "threeMagsV = threeMagsV[threeMagsV != 0]\n",
    "threeMagsR = threeMagsR[threeMagsR != 0]\n",
    "\n",
    "#extract julian date values:\n",
    "HJDB = np.where((df.objectNum==1)&(df.BVR=='B'),df.JD,0)\n",
    "HJDB = HJDB[HJDB != 0]\n",
    "HJDV = np.where((df.objectNum==1)&(df.BVR=='V'),df.JD,0)\n",
    "HJDV = HJDV[HJDV != 0]\n",
    "HJDR = np.where((df.objectNum==1)&(df.BVR=='R'),df.JD,0)\n",
    "HJDR = HJDR[HJDR != 0]\n",
    "\n",
    "#subtract magnitude values:\n",
    "\n",
    "#plot vs Julian Date(HJD) for each filter:\n",
    "    #plot as a scatter plot:\n",
    "plt.scatter(HJDB,(bxpegMagsB-threeMagsB),label='B filter',color='b')\n",
    "plt.scatter(HJDV,(bxpegMagsV-threeMagsV),label='V filter',color='g')\n",
    "plt.scatter(HJDR,(bxpegMagsR-threeMagsR),label='R filter',color='r')\n",
    "plt.legend()\n",
    "plt.show()"
   ]
  },
  {
   "cell_type": "markdown",
   "id": "c143ba17",
   "metadata": {},
   "source": [
    "https://www.tutorialspoint.com/python-program-to-remove-the-last-element-from-an-array\n",
    "\n",
    "how it should look:\n",
    "https://ui.adsabs.harvard.edu/abs/1982AcA....32..131H/abstract"
   ]
  },
  {
   "cell_type": "markdown",
   "id": "dc6ae87f",
   "metadata": {},
   "source": [
    "https://ui.adsabs.harvard.edu/abs/1982AcA....32..131H/abstract\n",
    "\n",
    "https://www.tutorialspoint.com/python-program-to-remove-the-last-element-from-an-array"
   ]
  },
  {
   "cell_type": "markdown",
   "id": "2c9993f3",
   "metadata": {},
   "source": [
    "https://www.tutorialspoint.com/python-program-to-remove-the-last-element-from-an-array\n",
    "\n",
    "https://articles.adsabs.harvard.edu/pdf/1982AcA....32..131H"
   ]
  }
 ],
 "metadata": {
  "kernelspec": {
   "display_name": "Python 3 (ipykernel)",
   "language": "python",
   "name": "python3"
  },
  "language_info": {
   "codemirror_mode": {
    "name": "ipython",
    "version": 3
   },
   "file_extension": ".py",
   "mimetype": "text/x-python",
   "name": "python",
   "nbconvert_exporter": "python",
   "pygments_lexer": "ipython3",
   "version": "3.11.5"
  }
 },
 "nbformat": 4,
 "nbformat_minor": 5
}
