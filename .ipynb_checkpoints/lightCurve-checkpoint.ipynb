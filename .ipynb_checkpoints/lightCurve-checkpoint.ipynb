{
 "cells": [
  {
   "cell_type": "code",
   "execution_count": 1,
   "id": "0a1063c1",
   "metadata": {},
   "outputs": [],
   "source": [
    "import numpy as np\n",
    "import pandas as pd\n",
    "from matplotlib import pyplot as plt\n",
    "import scipy as sci"
   ]
  },
  {
   "cell_type": "code",
   "execution_count": 34,
   "id": "fe560303",
   "metadata": {
    "scrolled": true
   },
   "outputs": [
    {
     "name": "stdout",
     "output_type": "stream",
     "text": [
      "              frameName  objectNum            JD      col     line BVR  \\\n",
      "0     20231005_0076.fit          2  2.460223e+06  684.494  871.838   B   \n",
      "3033  20231005_1114.fit          2  2.460223e+06  217.576  187.248   B   \n",
      "3034  20231005_1114.fit          3  2.460223e+06  284.981  895.299   B   \n",
      "3041  20231005_1117.fit          1  2.460223e+06  724.941  621.303   B   \n",
      "1306  20231005_0517.fit          3  2.460223e+06  282.656  892.865   B   \n",
      "...                 ...        ...           ...      ...      ...  ..   \n",
      "1052  20231005_0431.fit          1  2.460223e+06  181.466  435.818   V   \n",
      "1053  20231005_0431.fit          2  2.460223e+06  686.278  873.063   V   \n",
      "1054  20231005_0431.fit          3  2.460223e+06  623.640  164.733   V   \n",
      "1043  20231005_0428.fit          1  2.460223e+06  181.009  435.509   V   \n",
      "2179  20231005_0812.fit          3  2.460223e+06  284.451  893.258   V   \n",
      "\n",
      "         mag    err  \n",
      "0     -9.149  0.003  \n",
      "3033  -8.596  0.005  \n",
      "3034  -7.823  0.007  \n",
      "3041  -8.809  0.004  \n",
      "1306  -8.150  0.006  \n",
      "...      ...    ...  \n",
      "1052 -10.120  0.003  \n",
      "1053  -9.903  0.003  \n",
      "1054  -9.019  0.005  \n",
      "1043 -10.110  0.003  \n",
      "2179  -8.584  0.007  \n",
      "\n",
      "[4346 rows x 8 columns]\n"
     ]
    }
   ],
   "source": [
    "df = pd.read_csv('~/school_programs/AST401L_BXPeg/magnitudeData/bxpeg.dat', delim_whitespace=True)#import the data as a dataframe\n",
    "\n",
    "df.columns = ['frameName', 'objectNum', 'JD', 'col', 'line', 'BVR', 'mag', 'err']#labels for the colums\n",
    "df = df.sort_values('BVR')#sort by filter\n",
    "\n",
    "\n",
    "print(df)"
   ]
  },
  {
   "cell_type": "code",
   "execution_count": null,
   "id": "2073d279",
   "metadata": {},
   "outputs": [],
   "source": []
  }
 ],
 "metadata": {
  "kernelspec": {
   "display_name": "Python 3 (ipykernel)",
   "language": "python",
   "name": "python3"
  },
  "language_info": {
   "codemirror_mode": {
    "name": "ipython",
    "version": 3
   },
   "file_extension": ".py",
   "mimetype": "text/x-python",
   "name": "python",
   "nbconvert_exporter": "python",
   "pygments_lexer": "ipython3",
   "version": "3.11.5"
  }
 },
 "nbformat": 4,
 "nbformat_minor": 5
}
